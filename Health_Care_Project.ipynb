{
  "nbformat": 4,
  "nbformat_minor": 0,
  "metadata": {
    "colab": {
      "provenance": []
    },
    "kernelspec": {
      "name": "python3",
      "display_name": "Python 3"
    },
    "language_info": {
      "name": "python"
    }
  },
  "cells": [
    {
      "cell_type": "markdown",
      "source": [
        "Health Care Project"
      ],
      "metadata": {
        "id": "o05cCdZHRo2u"
      }
    },
    {
      "cell_type": "markdown",
      "source": [
        "Problem Statement 1:"
      ],
      "metadata": {
        "id": "8JP2bB9tRz4v"
      }
    },
    {
      "cell_type": "code",
      "execution_count": null,
      "metadata": {
        "colab": {
          "base_uri": "https://localhost:8080/"
        },
        "id": "NSRd6GDiQEOQ",
        "outputId": "e7413c78-867b-4a04-b010-24d7748c55c2"
      },
      "outputs": [
        {
          "output_type": "stream",
          "name": "stdout",
          "text": [
            "          State name District name  Population      Male    Female  Literate  \\\n",
            "0  JAMMU AND KASHMIR       Kupwara    870354.0  474190.0  396164.0  439654.0   \n",
            "1  JAMMU AND KASHMIR        Badgam    753745.0       NaN  355704.0  335649.0   \n",
            "2  JAMMU AND KASHMIR   Leh(Ladakh)    133487.0   78971.0   54516.0   93770.0   \n",
            "3  JAMMU AND KASHMIR        Kargil    140802.0       NaN   63017.0       NaN   \n",
            "4  JAMMU AND KASHMIR         Punch         NaN  251899.0  224936.0  261724.0   \n",
            "\n",
            "   Male_Literate  Female_Literate  Rural_Households  Urban_Households  \\\n",
            "0       282823.0         156831.0          158438.0               NaN   \n",
            "1       207741.0         127908.0          160649.0           27190.0   \n",
            "2        62834.0          30936.0           36920.0           17474.0   \n",
            "3        56301.0          29935.0           40370.0            7774.0   \n",
            "4       163333.0          98391.0          132139.0           15269.0   \n",
            "\n",
            "   Households  Age_Group_0_29  Age_Group_30_49  Age_Group_50  Age not stated  \n",
            "0    181664.0        600759.0         178435.0       89679.0          1481.0  \n",
            "1    187839.0        503223.0         160933.0       88978.0           611.0  \n",
            "2     54394.0         70703.0          41515.0           NaN           250.0  \n",
            "3     48144.0         87532.0          35561.0       17488.0           221.0  \n",
            "4    147408.0        304979.0         109818.0       61334.0           704.0  \n"
          ]
        }
      ],
      "source": [
        "import pandas as pd\n",
        "\n",
        "# Load the census data into a DataFrame\n",
        "census_data = pd.read_csv('census_2011.csv')\n",
        "\n",
        "# Select only the required columns\n",
        "required_columns = ['State name', 'District name', 'Population', 'Male', 'Female',\n",
        "                    'Literate', 'Male_Literate', 'Female_Literate', 'Rural_Households',\n",
        "                    'Urban_Households', 'Households', 'Age_Group_0_29', 'Age_Group_30_49',\n",
        "                    'Age_Group_50', 'Age not stated']\n",
        "\n",
        "census_data = census_data[required_columns]\n",
        "\n",
        "# Display the first few rows of the modified DataFrame\n",
        "print(census_data.head())"
      ]
    },
    {
      "cell_type": "markdown",
      "source": [
        "Problem Statement 2:"
      ],
      "metadata": {
        "id": "UEPnjWgaR5Tc"
      }
    },
    {
      "cell_type": "code",
      "source": [
        "import pandas as pd\n",
        "\n",
        "# Load the census data into a DataFrame\n",
        "census_data = pd.read_csv('census_2011.csv')\n",
        "\n",
        "# Select only the required columns\n",
        "required_columns = ['State name', 'District name', 'Population', 'Male', 'Female',\n",
        "                    'Literate', 'Male_Literate', 'Female_Literate', 'Rural_Households',\n",
        "                    'Urban_Households', 'Households', 'Age_Group_0_29', 'Age_Group_30_49',\n",
        "                    'Age_Group_50', 'Age not stated']\n",
        "\n",
        "census_data = census_data[required_columns]\n",
        "\n",
        "# Rename the columns\n",
        "census_data = census_data.rename(columns={'State name': 'State/UT',\n",
        "                                          'District name': 'District',\n",
        "                                          'Male_Literate': 'Literate_Male',\n",
        "                                          'Female_Literate': 'Literate_Female',\n",
        "                                          'Rural_Households': 'Households_Rural',\n",
        "                                          'Urban_Households': 'Households_Urban',\n",
        "                                          'Age_Group_0_29': 'Young_and_Adult',\n",
        "                                          'Age_Group_30_49': 'Middle_Aged',\n",
        "                                          'Age_Group_50': 'Senior_Citizen',\n",
        "                                          'Age not stated': 'Age_Not_Stated'})\n",
        "\n",
        "# Display the first few rows of the modified DataFrame\n",
        "print(census_data.head())"
      ],
      "metadata": {
        "colab": {
          "base_uri": "https://localhost:8080/"
        },
        "id": "JatELzwZQKVl",
        "outputId": "c6c9f6db-c973-4611-d742-3eea58e87bdf"
      },
      "execution_count": null,
      "outputs": [
        {
          "output_type": "stream",
          "name": "stdout",
          "text": [
            "            State/UT     District  Population      Male    Female  Literate  \\\n",
            "0  JAMMU AND KASHMIR      Kupwara    870354.0  474190.0  396164.0  439654.0   \n",
            "1  JAMMU AND KASHMIR       Badgam    753745.0       NaN  355704.0  335649.0   \n",
            "2  JAMMU AND KASHMIR  Leh(Ladakh)    133487.0   78971.0   54516.0   93770.0   \n",
            "3  JAMMU AND KASHMIR       Kargil    140802.0       NaN   63017.0       NaN   \n",
            "4  JAMMU AND KASHMIR        Punch         NaN  251899.0  224936.0  261724.0   \n",
            "\n",
            "   Literate_Male  Literate_Female  Households_Rural  Households_Urban  \\\n",
            "0       282823.0         156831.0          158438.0               NaN   \n",
            "1       207741.0         127908.0          160649.0           27190.0   \n",
            "2        62834.0          30936.0           36920.0           17474.0   \n",
            "3        56301.0          29935.0           40370.0            7774.0   \n",
            "4       163333.0          98391.0          132139.0           15269.0   \n",
            "\n",
            "   Households  Young_and_Adult  Middle_Aged  Senior_Citizen  Age_Not_Stated  \n",
            "0    181664.0         600759.0     178435.0         89679.0          1481.0  \n",
            "1    187839.0         503223.0     160933.0         88978.0           611.0  \n",
            "2     54394.0          70703.0      41515.0             NaN           250.0  \n",
            "3     48144.0          87532.0      35561.0         17488.0           221.0  \n",
            "4    147408.0         304979.0     109818.0         61334.0           704.0  \n"
          ]
        }
      ]
    },
    {
      "cell_type": "markdown",
      "source": [
        "Problem Statement 3:"
      ],
      "metadata": {
        "id": "5_jJcCrFR7W7"
      }
    },
    {
      "cell_type": "code",
      "source": [
        "# Define a function to capitalize State/UT names according to the specified format\n",
        "def capitalize_state_name(state_name):\n",
        "    words = state_name.lower().split()\n",
        "    capitalized_words = [word.capitalize() if word != 'and' else word for word in words]\n",
        "    return ' '.join(capitalized_words)\n",
        "# Apply the function to capitalize State/UT names\n",
        "census_data['State/UT'] = census_data['State/UT'].apply(capitalize_state_name)\n",
        "# Display the first few rows of the resulting DataFrame\n",
        "print(census_data.head())"
      ],
      "metadata": {
        "colab": {
          "base_uri": "https://localhost:8080/"
        },
        "id": "cr2vlMeBRm5T",
        "outputId": "4ec2f13c-42e6-485a-c7ff-126137c58e76"
      },
      "execution_count": null,
      "outputs": [
        {
          "output_type": "stream",
          "name": "stdout",
          "text": [
            "            State/UT     District  Population      Male    Female  Literate  \\\n",
            "0  Jammu and Kashmir      Kupwara    870354.0  474190.0  396164.0  439654.0   \n",
            "1  Jammu and Kashmir       Badgam    753745.0       NaN  355704.0  335649.0   \n",
            "2  Jammu and Kashmir  Leh(Ladakh)    133487.0   78971.0   54516.0   93770.0   \n",
            "3  Jammu and Kashmir       Kargil    140802.0       NaN   63017.0       NaN   \n",
            "4  Jammu and Kashmir        Punch         NaN  251899.0  224936.0  261724.0   \n",
            "\n",
            "   Literate_Male  Literate_Female  Households_Rural  Households_Urban  \\\n",
            "0       282823.0         156831.0          158438.0               NaN   \n",
            "1       207741.0         127908.0          160649.0           27190.0   \n",
            "2        62834.0          30936.0           36920.0           17474.0   \n",
            "3        56301.0          29935.0           40370.0            7774.0   \n",
            "4       163333.0          98391.0          132139.0           15269.0   \n",
            "\n",
            "   Households  Young_and_Adult  Middle_Aged  Senior_Citizen  Age_Not_Stated  \n",
            "0    181664.0         600759.0     178435.0         89679.0          1481.0  \n",
            "1    187839.0         503223.0     160933.0         88978.0           611.0  \n",
            "2     54394.0          70703.0      41515.0             NaN           250.0  \n",
            "3     48144.0          87532.0      35561.0         17488.0           221.0  \n",
            "4    147408.0         304979.0     109818.0         61334.0           704.0  \n"
          ]
        }
      ]
    },
    {
      "cell_type": "markdown",
      "source": [
        "Problem Statement 4:"
      ],
      "metadata": {
        "id": "DkzNgGtQR9Cm"
      }
    },
    {
      "cell_type": "code",
      "source": [
        "import pandas as pd\n",
        "\n",
        "# Sample data\n",
        "data = {\n",
        "    'State/UT': ['ANDHRA PRADESH', 'ANDHRA PRADESH', 'JAMMU AND KASHMIR', 'JAMMU AND KASHMIR'],\n",
        "    'District': ['District X', 'Telangana District', 'District Y', 'Laddakh District'],\n",
        "    'Population': [10000, 5000, 15000, 7000],\n",
        "    # Other columns...\n",
        "}\n",
        "\n",
        "# Create DataFrame\n",
        "census_data = pd.DataFrame(data)\n",
        "\n",
        "# Read Telangana districts from file\n",
        "with open('/content/Telangana.txt', 'r') as file:\n",
        "    telangana_districts = [line.strip() for line in file]\n",
        "\n",
        "# Read Ladakh districts from file\n",
        "with open('/content/Dataset_Reference.txt', 'r') as file:\n",
        "    ladakh_districts = [line.strip() for line in file]\n",
        "\n",
        "# Define a function to update State/UT names based on districts\n",
        "def update_state_ut(row):\n",
        "    if row['District'] in telangana_districts:\n",
        "        return 'Telangana'\n",
        "    elif row['District'] in ladakh_districts:\n",
        "        return 'Laddakh'\n",
        "    else:\n",
        "        return row['State/UT']\n",
        "\n",
        "# Apply the function to update State/UT names\n",
        "census_data['State/UT'] = census_data.apply(update_state_ut, axis=1)\n",
        "\n",
        "# Print the DataFrame with updated State/UT names\n",
        "print(census_data)"
      ],
      "metadata": {
        "colab": {
          "base_uri": "https://localhost:8080/"
        },
        "id": "_oTNnUyAQXop",
        "outputId": "00451003-adac-4b73-eb3a-0e40b0904f73"
      },
      "execution_count": null,
      "outputs": [
        {
          "output_type": "stream",
          "name": "stdout",
          "text": [
            "            State/UT            District  Population\n",
            "0     ANDHRA PRADESH          District X       10000\n",
            "1     ANDHRA PRADESH  Telangana District        5000\n",
            "2  JAMMU AND KASHMIR          District Y       15000\n",
            "3  JAMMU AND KASHMIR    Laddakh District        7000\n"
          ]
        }
      ]
    },
    {
      "cell_type": "code",
      "source": [
        "import pandas as pd\n",
        "\n",
        "# Assuming your data is loaded into a pandas dataframe named 'df'\n",
        "def find_missing_data(df):\n",
        "  # Find the total number of rows in the dataframe\n",
        "  total_rows = len(df)\n",
        "  # Find the number of missing values in each column\n",
        "  missing_values = df.isnull().sum()\n",
        "  # Calculate the percentage of missing data for each column\n",
        "  percent_missing = (missing_values / total_rows) * 100\n",
        "  # Create a DataFrame to store the results\n",
        "  missing_data_df = pd.DataFrame({'column_name': df.columns, 'percent_missing': percent_missing})\n",
        "  # Sort the DataFrame by the percentage of missing data (descending order)\n",
        "  missing_data_df = missing_data_df.sort_values(by='percent_missing', ascending=False)\n",
        "\n",
        "  return missing_data_df\n",
        "\n",
        "# Example usage:\n",
        "df = pd.read_csv('census_2011_filtered.csv')\n",
        "missing_data = find_missing_data(df.copy())\n",
        "print(missing_data)"
      ],
      "metadata": {
        "id": "roQgi4lKsvt0"
      },
      "execution_count": null,
      "outputs": []
    }
  ]
}